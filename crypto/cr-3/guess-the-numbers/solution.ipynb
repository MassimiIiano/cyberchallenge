{
 "cells": [
  {
   "cell_type": "markdown",
   "metadata": {},
   "source": [
    "we are given `nc gtn1.challs.cyberchallenge.it 9060`.\n",
    "we need to break the PRNG encription"
   ]
  },
  {
   "cell_type": "code",
   "execution_count": 2,
   "metadata": {},
   "outputs": [
    {
     "name": "stdout",
     "output_type": "stream",
     "text": [
      "[x] Opening connection to gtn1.challs.cyberchallenge.it on port 9060\n",
      "[x] Opening connection to gtn1.challs.cyberchallenge.it on port 9060: Trying 5.75.232.207\n",
      "[+] Opening connection to gtn1.challs.cyberchallenge.it on port 9060: Done\n",
      "[DEBUG] Received 0xa1 bytes:\n",
      "    b'Cryptography is just guessing... change my mind\\n'\n",
      "    b'Guess me the next 50 numbers of the sequence!\\n'\n",
      "    b'm = 1076867677\\n'\n",
      "    b'c = 1265354953\\n'\n",
      "    b'n = 2147483647\\n'\n",
      "    b's = 1862611659\\n'\n",
      "    b'v[0] = '\n",
      "m = 1076867677, c = 1265354953, n = 2147483647, s = 1862611659\n"
     ]
    }
   ],
   "source": [
    "from pwn import *\n",
    "import re\n",
    "\n",
    "context.log_level = 'debug'\n",
    "\n",
    "r = remote(\"gtn1.challs.cyberchallenge.it\", 9060)\n",
    "\n",
    "r.recvuntil(b'm = ')\n",
    "\n",
    "m_str = r.recvuntil(b'c = ').decode().strip()\n",
    "\n",
    "m = int(re.findall(r'\\d+', m_str)[0])\n",
    "\n",
    "c_str = r.recvuntil(b'n = ').decode().strip()\n",
    "c = int(re.findall(r'\\d+', c_str)[0])\n",
    "\n",
    "n_str = r.recvuntil(b's = ').decode().strip()\n",
    "n = int(re.findall(r'\\d+', n_str)[0])\n",
    "\n",
    "s_str = r.recvuntil(b'\\n').decode().strip()\n",
    "s = int(re.findall(r'\\d+', s_str)[0])\n",
    "\n",
    "print(f'm = {m}, c = {c}, n = {n}, s = {s}')\n",
    "\n",
    "\n",
    "\n"
   ]
  }
 ],
 "metadata": {
  "kernelspec": {
   "display_name": "Python 3",
   "language": "python",
   "name": "python3"
  },
  "language_info": {
   "codemirror_mode": {
    "name": "ipython",
    "version": 3
   },
   "file_extension": ".py",
   "mimetype": "text/x-python",
   "name": "python",
   "nbconvert_exporter": "python",
   "pygments_lexer": "ipython3",
   "version": "3.12.3"
  }
 },
 "nbformat": 4,
 "nbformat_minor": 2
}
