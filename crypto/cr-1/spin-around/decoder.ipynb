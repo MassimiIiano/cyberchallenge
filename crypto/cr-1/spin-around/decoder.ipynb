{
 "cells": [
  {
   "cell_type": "markdown",
   "metadata": {},
   "source": [
    "Get the file containing the crypted message"
   ]
  },
  {
   "cell_type": "code",
   "execution_count": 4,
   "metadata": {},
   "outputs": [
    {
     "name": "stdout",
     "output_type": "stream",
     "text": [
      "TTZK{Xrzlj_Alczlj_Trvjri}\n",
      "\n"
     ]
    }
   ],
   "source": [
    "file_path = 'message.enc'\n",
    "with open(file_path, 'r') as file:\n",
    "    content = file.read()\n",
    "print(content)\n"
   ]
  },
  {
   "cell_type": "markdown",
   "metadata": {},
   "source": [
    "we suspect it is ceser ciper so we go on dcode.fr and try to decrypt it with ceser cipher it will display all the possible combinations in this case the correct one is 17 shifts with the 26 english letter alphabet"
   ]
  }
 ],
 "metadata": {
  "kernelspec": {
   "display_name": "venv",
   "language": "python",
   "name": "python3"
  },
  "language_info": {
   "codemirror_mode": {
    "name": "ipython",
    "version": 3
   },
   "file_extension": ".py",
   "mimetype": "text/x-python",
   "name": "python",
   "nbconvert_exporter": "python",
   "pygments_lexer": "ipython3",
   "version": "3.11.8"
  }
 },
 "nbformat": 4,
 "nbformat_minor": 2
}
