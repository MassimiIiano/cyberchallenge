{
 "cells": [
  {
   "cell_type": "markdown",
   "metadata": {},
   "source": [
    "in this puzzle we connect to a server padding.challs.cyberchallenge.it 9030 who will encrypt our input with the flag"
   ]
  },
  {
   "cell_type": "markdown",
   "metadata": {},
   "source": [
    "through the name of the challenge we know it is an ECB Oracle Attack\n",
    "find out how mouch padding. Trou try and error the padding is 15"
   ]
  },
  {
   "cell_type": "code",
   "execution_count": 15,
   "metadata": {},
   "outputs": [
    {
     "name": "stdout",
     "output_type": "stream",
     "text": [
      "[x] Opening connection to padding.challs.cyberchallenge.it on port 9030\n",
      "[x] Opening connection to padding.challs.cyberchallenge.it on port 9030: Trying 5.75.232.207\n",
      "[+] Opening connection to padding.challs.cyberchallenge.it on port 9030: Done\n",
      "attempt: 0\n",
      "attempt: 1\n",
      "attempt: 2\n",
      "attempt: 3\n",
      "attempt: 4\n",
      "attempt: 5\n",
      "attempt: 6\n",
      "attempt: 7\n",
      "attempt: 8\n",
      "attempt: 9\n",
      "attempt: a\n",
      "attempt: b\n",
      "attempt: c\n",
      "attempt: d\n",
      "attempt: e\n",
      "attempt: f\n",
      "attempt: g\n",
      "attempt: h\n",
      "attempt: i\n",
      "attempt: j\n",
      "attempt: k\n",
      "attempt: l\n",
      "attempt: m\n",
      "attempt: n\n",
      "attempt: o\n",
      "attempt: p\n",
      "attempt: q\n",
      "attempt: r\n",
      "attempt: s\n",
      "attempt: t\n",
      "attempt: u\n",
      "attempt: v\n",
      "attempt: w\n",
      "attempt: x\n",
      "attempt: y\n",
      "attempt: z\n",
      "attempt: A\n",
      "attempt: B\n",
      "attempt: C\n",
      "flag: C\n",
      "attempt: 0\n",
      "attempt: 1\n",
      "attempt: 2\n",
      "attempt: 3\n",
      "attempt: 4\n",
      "attempt: 5\n",
      "attempt: 6\n",
      "attempt: 7\n",
      "attempt: 8\n",
      "attempt: 9\n",
      "attempt: a\n",
      "attempt: b\n",
      "attempt: c\n",
      "attempt: d\n",
      "attempt: e\n",
      "attempt: f\n",
      "attempt: g\n",
      "attempt: h\n",
      "attempt: i\n",
      "attempt: j\n",
      "attempt: k\n",
      "attempt: l\n",
      "attempt: m\n",
      "attempt: n\n",
      "attempt: o\n",
      "attempt: p\n",
      "attempt: q\n",
      "attempt: r\n",
      "attempt: s\n",
      "attempt: t\n",
      "attempt: u\n",
      "attempt: v\n",
      "attempt: w\n",
      "attempt: x\n",
      "attempt: y\n",
      "attempt: z\n",
      "attempt: A\n",
      "attempt: B\n",
      "attempt: C\n",
      "flag: CC\n",
      "attempt: 0\n",
      "attempt: 1\n",
      "attempt: 2\n",
      "attempt: 3\n",
      "attempt: 4\n",
      "attempt: 5\n",
      "attempt: 6\n",
      "attempt: 7\n",
      "attempt: 8\n",
      "attempt: 9\n",
      "attempt: a\n",
      "attempt: b\n",
      "attempt: c\n",
      "attempt: d\n",
      "attempt: e\n",
      "attempt: f\n",
      "attempt: g\n",
      "attempt: h\n",
      "attempt: i\n",
      "attempt: j\n",
      "attempt: k\n",
      "attempt: l\n",
      "attempt: m\n"
     ]
    },
    {
     "ename": "KeyboardInterrupt",
     "evalue": "",
     "output_type": "error",
     "traceback": [
      "\u001b[0;31m---------------------------------------------------------------------------\u001b[0m",
      "\u001b[0;31mKeyboardInterrupt\u001b[0m                         Traceback (most recent call last)",
      "Cell \u001b[0;32mIn[15], line 17\u001b[0m\n\u001b[1;32m     15\u001b[0m \u001b[38;5;28;01mwhile\u001b[39;00m \u001b[38;5;28;01mTrue\u001b[39;00m:\n\u001b[1;32m     16\u001b[0m     \u001b[38;5;28;01mfor\u001b[39;00m char \u001b[38;5;129;01min\u001b[39;00m string\u001b[38;5;241m.\u001b[39mprintable:\n\u001b[0;32m---> 17\u001b[0m         attempt \u001b[38;5;241m=\u001b[39m \u001b[43mencrypt\u001b[49m\u001b[43m(\u001b[49m\u001b[38;5;124;43m'\u001b[39;49m\u001b[38;5;124;43mA\u001b[39;49m\u001b[38;5;124;43m'\u001b[39;49m\u001b[43m \u001b[49m\u001b[38;5;241;43m*\u001b[39;49m\u001b[43m \u001b[49m\u001b[43m(\u001b[49m\u001b[38;5;241;43m31\u001b[39;49m\u001b[43m \u001b[49m\u001b[38;5;241;43m-\u001b[39;49m\u001b[43m \u001b[49m\u001b[38;5;28;43mlen\u001b[39;49m\u001b[43m(\u001b[49m\u001b[43mflag\u001b[49m\u001b[43m)\u001b[49m\u001b[43m)\u001b[49m\u001b[43m \u001b[49m\u001b[38;5;241;43m+\u001b[39;49m\u001b[43m \u001b[49m\u001b[43mflag\u001b[49m\u001b[43m \u001b[49m\u001b[38;5;241;43m+\u001b[39;49m\u001b[43m \u001b[49m\u001b[43mchar\u001b[49m\u001b[43m)\u001b[49m \u001b[38;5;66;03m# add a character to the flag\u001b[39;00m\n\u001b[1;32m     18\u001b[0m         \u001b[38;5;28mprint\u001b[39m(\u001b[38;5;124mf\u001b[39m\u001b[38;5;124m'\u001b[39m\u001b[38;5;124mattempt: \u001b[39m\u001b[38;5;132;01m{\u001b[39;00mchar\u001b[38;5;132;01m}\u001b[39;00m\u001b[38;5;124m'\u001b[39m)\n\u001b[1;32m     19\u001b[0m         \u001b[38;5;28;01mif\u001b[39;00m attempt[:\u001b[38;5;241m64\u001b[39m] \u001b[38;5;241m==\u001b[39m cmp[:\u001b[38;5;241m64\u001b[39m]:\n",
      "Cell \u001b[0;32mIn[15], line 7\u001b[0m, in \u001b[0;36mencrypt\u001b[0;34m(s)\u001b[0m\n\u001b[1;32m      6\u001b[0m \u001b[38;5;28;01mdef\u001b[39;00m \u001b[38;5;21mencrypt\u001b[39m(s):\n\u001b[0;32m----> 7\u001b[0m     \u001b[43mr\u001b[49m\u001b[38;5;241;43m.\u001b[39;49m\u001b[43mrecvuntil\u001b[49m\u001b[43m(\u001b[49m\u001b[38;5;124;43mb\u001b[39;49m\u001b[38;5;124;43m'\u001b[39;49m\u001b[38;5;124;43mto encrypt:\u001b[39;49m\u001b[38;5;124;43m'\u001b[39;49m\u001b[43m)\u001b[49m\n\u001b[1;32m      8\u001b[0m     r\u001b[38;5;241m.\u001b[39msendline(s\u001b[38;5;241m.\u001b[39mencode())\n\u001b[1;32m      9\u001b[0m     r\u001b[38;5;241m.\u001b[39mrecvuntil(\u001b[38;5;124mb\u001b[39m\u001b[38;5;124m'\u001b[39m\u001b[38;5;124mHere is you secure encrypted password: \u001b[39m\u001b[38;5;124m'\u001b[39m)\n",
      "File \u001b[0;32m~/Documents/workspace/cyberchallenge/venv/lib/python3.11/site-packages/pwnlib/tubes/tube.py:341\u001b[0m, in \u001b[0;36mtube.recvuntil\u001b[0;34m(self, delims, drop, timeout)\u001b[0m\n\u001b[1;32m    339\u001b[0m \u001b[38;5;28;01mwhile\u001b[39;00m \u001b[38;5;28mself\u001b[39m\u001b[38;5;241m.\u001b[39mcountdown_active():\n\u001b[1;32m    340\u001b[0m     \u001b[38;5;28;01mtry\u001b[39;00m:\n\u001b[0;32m--> 341\u001b[0m         res \u001b[38;5;241m=\u001b[39m \u001b[38;5;28;43mself\u001b[39;49m\u001b[38;5;241;43m.\u001b[39;49m\u001b[43mrecv\u001b[49m\u001b[43m(\u001b[49m\u001b[43mtimeout\u001b[49m\u001b[38;5;241;43m=\u001b[39;49m\u001b[38;5;28;43mself\u001b[39;49m\u001b[38;5;241;43m.\u001b[39;49m\u001b[43mtimeout\u001b[49m\u001b[43m)\u001b[49m\n\u001b[1;32m    342\u001b[0m     \u001b[38;5;28;01mexcept\u001b[39;00m \u001b[38;5;167;01mException\u001b[39;00m:\n\u001b[1;32m    343\u001b[0m         \u001b[38;5;28mself\u001b[39m\u001b[38;5;241m.\u001b[39munrecv(\u001b[38;5;124mb\u001b[39m\u001b[38;5;124m'\u001b[39m\u001b[38;5;124m'\u001b[39m\u001b[38;5;241m.\u001b[39mjoin(data) \u001b[38;5;241m+\u001b[39m top)\n",
      "File \u001b[0;32m~/Documents/workspace/cyberchallenge/venv/lib/python3.11/site-packages/pwnlib/tubes/tube.py:106\u001b[0m, in \u001b[0;36mtube.recv\u001b[0;34m(self, numb, timeout)\u001b[0m\n\u001b[1;32m     75\u001b[0m \u001b[38;5;250m\u001b[39m\u001b[38;5;124mr\u001b[39m\u001b[38;5;124;03m\"\"\"recv(numb = 4096, timeout = default) -> bytes\u001b[39;00m\n\u001b[1;32m     76\u001b[0m \n\u001b[1;32m     77\u001b[0m \u001b[38;5;124;03mReceives up to `numb` bytes of data from the tube, and returns\u001b[39;00m\n\u001b[0;32m   (...)\u001b[0m\n\u001b[1;32m    103\u001b[0m \u001b[38;5;124;03m        b'Hello, world'\u001b[39;00m\n\u001b[1;32m    104\u001b[0m \u001b[38;5;124;03m\"\"\"\u001b[39;00m\n\u001b[1;32m    105\u001b[0m numb \u001b[38;5;241m=\u001b[39m \u001b[38;5;28mself\u001b[39m\u001b[38;5;241m.\u001b[39mbuffer\u001b[38;5;241m.\u001b[39mget_fill_size(numb)\n\u001b[0;32m--> 106\u001b[0m \u001b[38;5;28;01mreturn\u001b[39;00m \u001b[38;5;28;43mself\u001b[39;49m\u001b[38;5;241;43m.\u001b[39;49m\u001b[43m_recv\u001b[49m\u001b[43m(\u001b[49m\u001b[43mnumb\u001b[49m\u001b[43m,\u001b[49m\u001b[43m \u001b[49m\u001b[43mtimeout\u001b[49m\u001b[43m)\u001b[49m \u001b[38;5;129;01mor\u001b[39;00m \u001b[38;5;124mb\u001b[39m\u001b[38;5;124m'\u001b[39m\u001b[38;5;124m'\u001b[39m\n",
      "File \u001b[0;32m~/Documents/workspace/cyberchallenge/venv/lib/python3.11/site-packages/pwnlib/tubes/tube.py:176\u001b[0m, in \u001b[0;36mtube._recv\u001b[0;34m(self, numb, timeout)\u001b[0m\n\u001b[1;32m    172\u001b[0m numb \u001b[38;5;241m=\u001b[39m \u001b[38;5;28mself\u001b[39m\u001b[38;5;241m.\u001b[39mbuffer\u001b[38;5;241m.\u001b[39mget_fill_size(numb)\n\u001b[1;32m    174\u001b[0m \u001b[38;5;66;03m# No buffered data, could not put anything in the buffer\u001b[39;00m\n\u001b[1;32m    175\u001b[0m \u001b[38;5;66;03m# before timeout.\u001b[39;00m\n\u001b[0;32m--> 176\u001b[0m \u001b[38;5;28;01mif\u001b[39;00m \u001b[38;5;129;01mnot\u001b[39;00m \u001b[38;5;28mself\u001b[39m\u001b[38;5;241m.\u001b[39mbuffer \u001b[38;5;129;01mand\u001b[39;00m \u001b[38;5;129;01mnot\u001b[39;00m \u001b[38;5;28;43mself\u001b[39;49m\u001b[38;5;241;43m.\u001b[39;49m\u001b[43m_fillbuffer\u001b[49m\u001b[43m(\u001b[49m\u001b[43mtimeout\u001b[49m\u001b[43m)\u001b[49m:\n\u001b[1;32m    177\u001b[0m     \u001b[38;5;28;01mreturn\u001b[39;00m \u001b[38;5;124mb\u001b[39m\u001b[38;5;124m'\u001b[39m\u001b[38;5;124m'\u001b[39m\n\u001b[1;32m    179\u001b[0m \u001b[38;5;28;01mreturn\u001b[39;00m \u001b[38;5;28mself\u001b[39m\u001b[38;5;241m.\u001b[39mbuffer\u001b[38;5;241m.\u001b[39mget(numb)\n",
      "File \u001b[0;32m~/Documents/workspace/cyberchallenge/venv/lib/python3.11/site-packages/pwnlib/tubes/tube.py:155\u001b[0m, in \u001b[0;36mtube._fillbuffer\u001b[0;34m(self, timeout)\u001b[0m\n\u001b[1;32m    152\u001b[0m data \u001b[38;5;241m=\u001b[39m \u001b[38;5;124mb\u001b[39m\u001b[38;5;124m'\u001b[39m\u001b[38;5;124m'\u001b[39m\n\u001b[1;32m    154\u001b[0m \u001b[38;5;28;01mwith\u001b[39;00m \u001b[38;5;28mself\u001b[39m\u001b[38;5;241m.\u001b[39mlocal(timeout):\n\u001b[0;32m--> 155\u001b[0m     data \u001b[38;5;241m=\u001b[39m \u001b[38;5;28;43mself\u001b[39;49m\u001b[38;5;241;43m.\u001b[39;49m\u001b[43mrecv_raw\u001b[49m\u001b[43m(\u001b[49m\u001b[38;5;28;43mself\u001b[39;49m\u001b[38;5;241;43m.\u001b[39;49m\u001b[43mbuffer\u001b[49m\u001b[38;5;241;43m.\u001b[39;49m\u001b[43mget_fill_size\u001b[49m\u001b[43m(\u001b[49m\u001b[43m)\u001b[49m\u001b[43m)\u001b[49m\n\u001b[1;32m    157\u001b[0m \u001b[38;5;28;01mif\u001b[39;00m data \u001b[38;5;129;01mand\u001b[39;00m \u001b[38;5;28mself\u001b[39m\u001b[38;5;241m.\u001b[39misEnabledFor(logging\u001b[38;5;241m.\u001b[39mDEBUG):\n\u001b[1;32m    158\u001b[0m     \u001b[38;5;28mself\u001b[39m\u001b[38;5;241m.\u001b[39mdebug(\u001b[38;5;124m'\u001b[39m\u001b[38;5;124mReceived \u001b[39m\u001b[38;5;132;01m%#x\u001b[39;00m\u001b[38;5;124m bytes:\u001b[39m\u001b[38;5;124m'\u001b[39m \u001b[38;5;241m%\u001b[39m \u001b[38;5;28mlen\u001b[39m(data))\n",
      "File \u001b[0;32m~/Documents/workspace/cyberchallenge/venv/lib/python3.11/site-packages/pwnlib/tubes/sock.py:39\u001b[0m, in \u001b[0;36msock.recv_raw\u001b[0;34m(self, numb, *a)\u001b[0m\n\u001b[1;32m     37\u001b[0m \u001b[38;5;28;01mwhile\u001b[39;00m \u001b[38;5;28;01mTrue\u001b[39;00m:\n\u001b[1;32m     38\u001b[0m     \u001b[38;5;28;01mtry\u001b[39;00m:\n\u001b[0;32m---> 39\u001b[0m         data \u001b[38;5;241m=\u001b[39m \u001b[38;5;28;43mself\u001b[39;49m\u001b[38;5;241;43m.\u001b[39;49m\u001b[43msock\u001b[49m\u001b[38;5;241;43m.\u001b[39;49m\u001b[43mrecv\u001b[49m\u001b[43m(\u001b[49m\u001b[43mnumb\u001b[49m\u001b[43m,\u001b[49m\u001b[43m \u001b[49m\u001b[38;5;241;43m*\u001b[39;49m\u001b[43ma\u001b[49m\u001b[43m)\u001b[49m\n\u001b[1;32m     40\u001b[0m         \u001b[38;5;28;01mbreak\u001b[39;00m\n\u001b[1;32m     41\u001b[0m     \u001b[38;5;28;01mexcept\u001b[39;00m socket\u001b[38;5;241m.\u001b[39mtimeout:\n",
      "\u001b[0;31mKeyboardInterrupt\u001b[0m: "
     ]
    }
   ],
   "source": [
    "import string\n",
    "from pwn import *\n",
    "\n",
    "r = remote('padding.challs.cyberchallenge.it', 9030)\n",
    "\n",
    "def encrypt(s):\n",
    "    r.recvuntil(b'to encrypt:')\n",
    "    r.sendline(s.encode())\n",
    "    r.recvuntil(b'Here is you secure encrypted password: ')\n",
    "    return r.recvline().decode().strip()\n",
    "\n",
    "# ECB Oracle Attack\n",
    "flag = ''\n",
    "cmp = encrypt('A' * 31)\n",
    "while True:\n",
    "    for char in string.printable:\n",
    "        attempt = encrypt('A' * (31 - len(flag)) + flag + char) # add a character to the flag\n",
    "        print(f'attempt: {char}')\n",
    "        if attempt[:64] == cmp[:64]:\n",
    "            flag += char\n",
    "            print(f'flag: {flag}')\n",
    "            cmp = encrypt('A' * (31 - len(flag)))\n",
    "            break\n",
    "    else: break\n",
    "\n",
    "\n",
    "\n",
    "    \n",
    "print(f'flag: {flag}')"
   ]
  },
  {
   "cell_type": "code",
   "execution_count": 16,
   "metadata": {},
   "outputs": [
    {
     "data": {
      "text/plain": [
       "32"
      ]
     },
     "execution_count": 16,
     "metadata": {},
     "output_type": "execute_result"
    }
   ],
   "source": [
    "len('9e6edc8e4ab864fb521640f080e346a2')"
   ]
  }
 ],
 "metadata": {
  "kernelspec": {
   "display_name": "venv",
   "language": "python",
   "name": "python3"
  },
  "language_info": {
   "codemirror_mode": {
    "name": "ipython",
    "version": 3
   },
   "file_extension": ".py",
   "mimetype": "text/x-python",
   "name": "python",
   "nbconvert_exporter": "python",
   "pygments_lexer": "ipython3",
   "version": "3.11.8"
  }
 },
 "nbformat": 4,
 "nbformat_minor": 2
}
