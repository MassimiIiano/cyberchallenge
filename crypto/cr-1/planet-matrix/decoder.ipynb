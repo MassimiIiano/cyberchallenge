{
 "cells": [
  {
   "cell_type": "markdown",
   "metadata": {},
   "source": [
    "we can see tat [1-who-am-i.jpg](1-who-am-i.jpg) is depicted 'Charles Wheatstone'\n",
    "\n",
    "in his wikipedia page, we can see that he developed the Wheatstone–Playfair cipher, which is a digraph substitution cipher that is closely related to the Vigenère cipher.\n",
    "\n",
    "in the second image [2-why-this-matrix.jsg](2-why-this-matrix.jpg) we can see a matrix of 5x5, which is a common matrix for the Wheatstone-Playfair cipher.\n",
    "\n",
    "Lets go to dCode.fr and try to solve it"
   ]
  },
  {
   "cell_type": "code",
   "execution_count": null,
   "metadata": {},
   "outputs": [],
   "source": []
  }
 ],
 "metadata": {
  "language_info": {
   "name": "python"
  }
 },
 "nbformat": 4,
 "nbformat_minor": 2
}
