{
 "cells": [
  {
   "cell_type": "markdown",
   "metadata": {},
   "source": [
    "Someone dropped the key \"TCICmI_{_d343_m4}s!s\" but it was encrypted\n",
    "\n",
    "12345678 9012 3456 7890\n",
    "TCICmI_{ _d34 3_m4 }s!s\n",
    "1 -> 4\n",
    "2 -> 2\n",
    "3 -> 3\n",
    "4 -> 1\n",
    "\n",
    "5 -> 8\n",
    "17 -> 20\n",
    "\n",
    "we can see that every 4 letter a pattern repeat where the 4th setter is the 1st letter of the pattern ... so we can use this pattern to decrypt the key\n",
    "CCIT{I_m4d3_4_m3ss!} is the decrypted key"
   ]
  },
  {
   "cell_type": "code",
   "execution_count": 4,
   "metadata": {},
   "outputs": [
    {
     "name": "stdout",
     "output_type": "stream",
     "text": [
      "aaaaaaaaaaaaaaaaaaaaaaaaaaaaaaaaaaaaaaaaaaaaaaaaaaaaaaaaaaaaaaaaaaaaaaaaaaaaaaaaaaaaaaaaaaaaaaaaaaaaaaaaaaaaaaaaaaaaaaaaaaaaaaaaaaaaaaaaaaaaaaaaaaaaaaaaaaaaaaaaa\n"
     ]
    }
   ],
   "source": [
    "print('a' * 161)"
   ]
  },
  {
   "cell_type": "code",
   "execution_count": 3,
   "metadata": {},
   "outputs": [
    {
     "data": {
      "text/plain": [
       "160"
      ]
     },
     "execution_count": 3,
     "metadata": {},
     "output_type": "execute_result"
    }
   ],
   "source": [
    "len('4fe280217945ddd13fc5d22e44ea061c4fe280217945ddd13fc5d22e44ea061c399ee13f70c83d2e9c1f7594902512d126490ec12c0d7ac5e14eacdd7d87668ac644f01a76aabc5ec0c46792e9e25523')"
   ]
  }
 ],
 "metadata": {
  "kernelspec": {
   "display_name": "venv",
   "language": "python",
   "name": "python3"
  },
  "language_info": {
   "codemirror_mode": {
    "name": "ipython",
    "version": 3
   },
   "file_extension": ".py",
   "mimetype": "text/x-python",
   "name": "python",
   "nbconvert_exporter": "python",
   "pygments_lexer": "ipython3",
   "version": "3.11.8"
  }
 },
 "nbformat": 4,
 "nbformat_minor": 2
}
