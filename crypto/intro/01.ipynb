{
 "cells": [
  {
   "cell_type": "markdown",
   "metadata": {},
   "source": [
    "In questa serie di challenge verranno introdotte alcune nozioni di base necessarie per affrontare i problemi di crittografia.\n",
    "\n",
    "Innanzitutto è bene comprendere il concetto di encoding.\n",
    "\n",
    "Un encoding (o codice, in italiano) è un sistema di segnali o simboli convenzionalmente designati per rappresentare un'informazione.\n",
    "\n",
    "Ad un livello fondamentale, ogni informazione è rappresentata all'interno di un computer tramite sequenze di 0 e 1 (bit).\n",
    "\n",
    "Tuttavia queste sono piuttosto scomode, di conseguenza a partire da esse solitamente si sovrappone un ulteriore encoding a seconda della convenienza.\n",
    "\n",
    "ASCII, ad esempio, è un codice standard che permette di rappresentare del testo (e qualche altro carattere di controllo) attraverso sequenze di 7 bit (equivalentemente, numeri interi da 0 a 127).\n",
    "\n",
    "In Python, la funzione chr() effettua la conversione da numero a carattere (la funzione ord() fa l'opposto); altrimenti puoi aiutarti con dei tool online come CyberChef.\n",
    "\n",
    "La flag di questa challenge è ottenibile con la conversione (decodifica) di questi numeri nei caratteri ASCII corrispondenti.\n",
    "\n",
    "[102, 108, 97, 103, 123, 117, 103, 104, 95, 78, 117, 109, 66, 51, 114, 53, 95, 52, 49, 114, 51, 52, 100, 121, 125]"
   ]
  },
  {
   "cell_type": "code",
   "execution_count": 4,
   "metadata": {},
   "outputs": [
    {
     "name": "stdout",
     "output_type": "stream",
     "text": [
      "flag{ugh_NumB3r5_41r34dy}"
     ]
    }
   ],
   "source": [
    "flag_chars = [102, 108, 97, 103, 123, 117, 103, 104, 95, 78, 117, 109, 66, 51, 114, 53, 95, 52, 49, 114, 51, 52, 100, 121, 125]\n",
    "for c in flag_chars:\n",
    "    print(chr(c), end='')"
   ]
  }
 ],
 "metadata": {
  "kernelspec": {
   "display_name": "venv",
   "language": "python",
   "name": "python3"
  },
  "language_info": {
   "codemirror_mode": {
    "name": "ipython",
    "version": 3
   },
   "file_extension": ".py",
   "mimetype": "text/x-python",
   "name": "python",
   "nbconvert_exporter": "python",
   "pygments_lexer": "ipython3",
   "version": "3.11.8"
  }
 },
 "nbformat": 4,
 "nbformat_minor": 2
}
