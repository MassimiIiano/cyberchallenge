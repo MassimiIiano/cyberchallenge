{
 "cells": [
  {
   "cell_type": "markdown",
   "metadata": {},
   "source": [
    "Convenzionalmente le sequenze di bit vengono divise in byte: sottosequenze adiacenti di 8 bit ciascuna.\n",
    "\n",
    "La codifica esadecimale (o in base 16) permette di rappresentarli in modo molto conveniente.\n",
    "\n",
    "Dato un byte, lo si spezza in due sequenze adiacenti da quattro bit ciascuna: queste, lette in binario, possono essere intese come due numeri interi da 0 a 15, che sono poi rappresentati dai caratteri '0', '1', ..., '9', 'a', 'b', ..., 'f'.\n",
    "\n",
    "Esempio: 01101110 → 0110, 1110 → 6, 14 → '6', 'e' → '6e'.\n",
    "\n",
    "Dunque ciascun byte viene trasformato in una sequenza di due caratteri.\n",
    "\n",
    "In Python, sequenze di byte vengono gestite attraverso la classe bytes. Con il metodo .hex() è possibile ottenere la corrispondente stringa esadecimale, mentre la funzione bytes.fromhex(s) restituisce l'oggetto bytes che corrisponde alla stringa esadecimale s.\n",
    "\n",
    "Per ottenere la flag, trasforma la seguente stringa nella corrispondente sequenza di bytes.\n",
    "\n",
    "666c61677b68337834646563696d616c5f63346e5f62335f41424144424142457d"
   ]
  },
  {
   "cell_type": "code",
   "execution_count": 2,
   "metadata": {},
   "outputs": [
    {
     "name": "stdout",
     "output_type": "stream",
     "text": [
      "b'flag{h3x4decimal_c4n_b3_ABADBABE}'\n"
     ]
    }
   ],
   "source": [
    "hexstr = '666c61677b68337834646563696d616c5f63346e5f62335f41424144424142457d'\n",
    "print(bytes.fromhex(hexstr))"
   ]
  }
 ],
 "metadata": {
  "kernelspec": {
   "display_name": "venv",
   "language": "python",
   "name": "python3"
  },
  "language_info": {
   "codemirror_mode": {
    "name": "ipython",
    "version": 3
   },
   "file_extension": ".py",
   "mimetype": "text/x-python",
   "name": "python",
   "nbconvert_exporter": "python",
   "pygments_lexer": "ipython3",
   "version": "3.11.8"
  }
 },
 "nbformat": 4,
 "nbformat_minor": 2
}
