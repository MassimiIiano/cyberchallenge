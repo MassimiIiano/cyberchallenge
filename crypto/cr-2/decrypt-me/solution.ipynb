{
 "cells": [
  {
   "cell_type": "markdown",
   "metadata": {},
   "source": [
    "\n"
   ]
  },
  {
   "cell_type": "markdown",
   "metadata": {
    "vscode": {
     "languageId": "plaintext"
    }
   },
   "source": [
    "look up the factors in factordb"
   ]
  },
  {
   "cell_type": "code",
   "execution_count": 1,
   "metadata": {},
   "outputs": [
    {
     "name": "stdout",
     "output_type": "stream",
     "text": [
      "CCIT{d3crypt_0r_brut3f0rc3_m3?}"
     ]
    }
   ],
   "source": [
    "n = 6978643725301034687\n",
    "e = 65537\n",
    "c = [330491619614655704,330491619614655704,3091954281444416978,466972204857341594,6003475009957582261,5339981105013139679,6596974661489421904,2822161913993247701,5547032995651184365,3269518217593410063,3736400100981045498,3616150431731140245,4136155834429311356,1488012991442385800,5547032995651184365,4136155834429311356,4971367358312153171,5547032995651184365,4158822776603671884,3616150431731140245,6596974661489421904,5465781155217766773,1488012991442385800,5547032995651184365,2822161913993247701,6596974661489421904,4136155834429311356,3491402966579516587,6596974661489421904,886641009203121273,4693728892056613413]\n",
    "p = 2147990771\n",
    "q = 3248916997\n",
    "phi = (p-1)*(q-1)\n",
    "d = pow(e,-1,phi)\n",
    "for cha in c:\n",
    "    print(chr(pow(cha,d,n)),end='')"
   ]
  }
 ],
 "metadata": {
  "kernelspec": {
   "display_name": "Python 3",
   "language": "python",
   "name": "python3"
  },
  "language_info": {
   "codemirror_mode": {
    "name": "ipython",
    "version": 3
   },
   "file_extension": ".py",
   "mimetype": "text/x-python",
   "name": "python",
   "nbconvert_exporter": "python",
   "pygments_lexer": "ipython3",
   "version": "3.12.3"
  }
 },
 "nbformat": 4,
 "nbformat_minor": 2
}
