{
 "cells": [
  {
   "cell_type": "markdown",
   "metadata": {},
   "source": [
    "# RSA - Walkthrough\n",
    "A step-by-step walkthrough for RSA cryptosystems,\n",
    "\n",
    "This is a remote challenge, you can connect to the service with:\n",
    "\n",
    "```bash\n",
    "nc rsa.challs.cyberchallenge.it 9040\n",
    "```"
   ]
  },
  {
   "cell_type": "markdown",
   "metadata": {},
   "source": [
    "### connect to rsa challenge"
   ]
  },
  {
   "cell_type": "code",
   "execution_count": 85,
   "metadata": {},
   "outputs": [
    {
     "name": "stdout",
     "output_type": "stream",
     "text": [
      "[x] Opening connection to rsa.challs.cyberchallenge.it on port 9040\n",
      "[x] Opening connection to rsa.challs.cyberchallenge.it on port 9040: Trying 5.75.232.207\n",
      "[+] Opening connection to rsa.challs.cyberchallenge.it on port 9040: Done\n"
     ]
    }
   ],
   "source": [
    "from pwn import *\n",
    "from Crypto.Util.number import *\n",
    "import re\n",
    "\n",
    "context.log_level = 'DEBUG'\n",
    "conn = remote('rsa.challs.cyberchallenge.it', 9040)"
   ]
  },
  {
   "cell_type": "markdown",
   "metadata": {},
   "source": [
    "### print the output of the service"
   ]
  },
  {
   "cell_type": "code",
   "execution_count": 86,
   "metadata": {},
   "outputs": [
    {
     "name": "stdout",
     "output_type": "stream",
     "text": [
      "[DEBUG] Received 0x36 bytes:\n",
      "    b'Welcome to the RSA interactive tutorial!\\n'\n",
      "    b'Follow me...\\n'\n",
      "[DEBUG] Received 0x2c bytes:\n",
      "    b'Level 1\\n'\n",
      "    b'p = 2642106539\\n'\n",
      "    b'q = 2634987163\\n'\n",
      "    b'n = ?\\n'\n",
      "Welcome to the RSA interactive tutorial!\n",
      "Follow me...\n",
      "Level 1\n",
      "p = 2642106539\n",
      "q = 2634987163\n",
      "n = ?\n",
      "\n"
     ]
    }
   ],
   "source": [
    "output = conn.recvuntil(b'?\\n').decode()\n",
    "print(output)"
   ]
  },
  {
   "cell_type": "markdown",
   "metadata": {},
   "source": [
    "get p and q"
   ]
  },
  {
   "cell_type": "code",
   "execution_count": 87,
   "metadata": {},
   "outputs": [
    {
     "data": {
      "text/plain": [
       "(2642106539, 2634987163)"
      ]
     },
     "execution_count": 87,
     "metadata": {},
     "output_type": "execute_result"
    }
   ],
   "source": [
    "\n",
    "numbers = re.findall(r'\\d+', output)\n",
    "p = int(numbers[1])\n",
    "q = int(numbers[2])\n",
    "\n",
    "p, q"
   ]
  },
  {
   "cell_type": "code",
   "execution_count": 88,
   "metadata": {},
   "outputs": [
    {
     "name": "stdout",
     "output_type": "stream",
     "text": [
      "[DEBUG] Sent 0x14 bytes:\n",
      "    b'6961916813543358857\\n'\n",
      "[DEBUG] Received 0x37 bytes:\n",
      "    b'Correct!\\n'\n",
      "    b'Level 2\\n'\n",
      "    b'message = This is the plaintext\\n'\n",
      "    b'm = ?\\n'\n"
     ]
    },
    {
     "data": {
      "text/plain": [
       "b'Correct!\\nLevel 2\\nmessage = This is the plaintext\\nm = ?\\n'"
      ]
     },
     "execution_count": 88,
     "metadata": {},
     "output_type": "execute_result"
    }
   ],
   "source": [
    "n = p * q\n",
    "conn.sendline(str(n).encode())\n",
    "conn.recvuntil(b'?\\n')"
   ]
  },
  {
   "cell_type": "code",
   "execution_count": 89,
   "metadata": {},
   "outputs": [
    {
     "name": "stdout",
     "output_type": "stream",
     "text": [
      "[DEBUG] Sent 0x34 bytes:\n",
      "    b'123362224183149454760914059890512892802364944513140\\n'\n",
      "[DEBUG] Received 0x9 bytes:\n",
      "    b'Correct!\\n'\n",
      "[DEBUG] Received 0x4e bytes:\n",
      "    b'Level 3\\n'\n",
      "    b'p = 2726311099\\n'\n",
      "    b'q = 3793771981\\n'\n",
      "    b'm = 3552026060870776732\\n'\n",
      "    b'e = 65537\\n'\n",
      "    b'c = ?\\n'\n"
     ]
    }
   ],
   "source": [
    "message = \"This is the plaintext\"\n",
    "m = bytes_to_long(message.encode())\n",
    "conn.sendline(str(m).encode())\n",
    "output = conn.recvuntil(b'?\\n').decode()"
   ]
  },
  {
   "cell_type": "code",
   "execution_count": 90,
   "metadata": {},
   "outputs": [
    {
     "name": "stdout",
     "output_type": "stream",
     "text": [
      "[DEBUG] Sent 0x14 bytes:\n",
      "    b'3287012547922222994\\n'\n",
      "[DEBUG] Received 0x9 bytes:\n",
      "    b'Correct!\\n'\n",
      "[DEBUG] Received 0x3b bytes:\n",
      "    b'Level 4\\n'\n",
      "    b'p = 2860628737\\n'\n",
      "    b'q = 3633858379\\n'\n",
      "    b'e = 65537\\n'\n",
      "    b'tot(n) = ?\\n'\n"
     ]
    }
   ],
   "source": [
    "numbers = re.findall(r'\\d+', output)\n",
    "p = int(numbers[1])\n",
    "q = int(numbers[2])\n",
    "m = int(numbers[3])\n",
    "e = int(numbers[4])\n",
    "\n",
    "# Step 1: Calculate n\n",
    "n = p * q\n",
    "\n",
    "# Step 2: Compute phi(n)\n",
    "phi_n = (p - 1) * (q - 1)\n",
    "\n",
    "# Step 3: Compute ciphertext\n",
    "c = pow(m, e, n)\n",
    "\n",
    "conn.sendline(str(c).encode())\n",
    "output = conn.recvuntil(b'?\\n').decode()\n"
   ]
  },
  {
   "cell_type": "code",
   "execution_count": 91,
   "metadata": {},
   "outputs": [
    {
     "name": "stdout",
     "output_type": "stream",
     "text": [
      "[DEBUG] Sent 0x15 bytes:\n",
      "    b'10395119698661150208\\n'\n",
      "[DEBUG] Received 0xf bytes:\n",
      "    b'Correct!\\n'\n",
      "    b'd = ?\\n'\n"
     ]
    }
   ],
   "source": [
    "numbers = re.findall(r'\\d+', output)\n",
    "p = int(numbers[1])\n",
    "q = int(numbers[2])\n",
    "e = int(numbers[3])\n",
    "\n",
    "totient = (p - 1) * (q - 1)\n",
    "conn.sendline(str(totient).encode())\n",
    "output = conn.recvuntil(b'?\\n').decode()"
   ]
  },
  {
   "cell_type": "code",
   "execution_count": 92,
   "metadata": {},
   "outputs": [
    {
     "name": "stdout",
     "output_type": "stream",
     "text": [
      "[DEBUG] Sent 0x14 bytes:\n",
      "    b'9761296082751817217\\n'\n",
      "[DEBUG] Received 0x9 bytes:\n",
      "    b'Correct!\\n'\n",
      "[DEBUG] Received 0x4b bytes:\n",
      "    b'Level 5\\n'\n",
      "    b'p = 2281048811\\n'\n",
      "    b'q = 3531274099\\n'\n",
      "    b'e = 65537\\n'\n",
      "    b'c = 4725878926357044\\n'\n",
      "    b'm = ?\\n'\n"
     ]
    }
   ],
   "source": [
    "d = pow(e, -1, totient)\n",
    "conn.sendline(str(d).encode())\n",
    "output = conn.recvuntil(b'?\\n').decode()"
   ]
  },
  {
   "cell_type": "code",
   "execution_count": 93,
   "metadata": {},
   "outputs": [
    {
     "name": "stdout",
     "output_type": "stream",
     "text": [
      "[DEBUG] Sent 0x13 bytes:\n",
      "    b'764162232368304358\\n'\n",
      "[DEBUG] Received 0x38 bytes:\n",
      "    b'Correct!\\n'\n",
      "    b\"Great! Here's your flag:\\n\"\n",
      "    b'CCIT{W3lc0me_t0_RSA!}\\n'\n"
     ]
    },
    {
     "ename": "EOFError",
     "evalue": "",
     "output_type": "error",
     "traceback": [
      "\u001b[0;31m---------------------------------------------------------------------------\u001b[0m",
      "\u001b[0;31mEOFError\u001b[0m                                  Traceback (most recent call last)",
      "Cell \u001b[0;32mIn[93], line 11\u001b[0m\n\u001b[1;32m      9\u001b[0m m \u001b[38;5;241m=\u001b[39m \u001b[38;5;28mpow\u001b[39m(c, d, p \u001b[38;5;241m*\u001b[39m q)\n\u001b[1;32m     10\u001b[0m conn\u001b[38;5;241m.\u001b[39msendline(\u001b[38;5;28mstr\u001b[39m(m)\u001b[38;5;241m.\u001b[39mencode())\n\u001b[0;32m---> 11\u001b[0m output \u001b[38;5;241m=\u001b[39m \u001b[43mconn\u001b[49m\u001b[38;5;241;43m.\u001b[39;49m\u001b[43mrecvuntil\u001b[49m\u001b[43m(\u001b[49m\u001b[38;5;124;43mb\u001b[39;49m\u001b[38;5;124;43m'\u001b[39;49m\u001b[38;5;124;43m?\u001b[39;49m\u001b[38;5;130;43;01m\\n\u001b[39;49;00m\u001b[38;5;124;43m'\u001b[39;49m\u001b[43m)\u001b[49m\u001b[38;5;241m.\u001b[39mdecode()\n",
      "File \u001b[0;32m~/.local/lib/python3.12/site-packages/pwnlib/tubes/tube.py:341\u001b[0m, in \u001b[0;36mtube.recvuntil\u001b[0;34m(self, delims, drop, timeout)\u001b[0m\n\u001b[1;32m    339\u001b[0m \u001b[38;5;28;01mwhile\u001b[39;00m \u001b[38;5;28mself\u001b[39m\u001b[38;5;241m.\u001b[39mcountdown_active():\n\u001b[1;32m    340\u001b[0m     \u001b[38;5;28;01mtry\u001b[39;00m:\n\u001b[0;32m--> 341\u001b[0m         res \u001b[38;5;241m=\u001b[39m \u001b[38;5;28;43mself\u001b[39;49m\u001b[38;5;241;43m.\u001b[39;49m\u001b[43mrecv\u001b[49m\u001b[43m(\u001b[49m\u001b[43mtimeout\u001b[49m\u001b[38;5;241;43m=\u001b[39;49m\u001b[38;5;28;43mself\u001b[39;49m\u001b[38;5;241;43m.\u001b[39;49m\u001b[43mtimeout\u001b[49m\u001b[43m)\u001b[49m\n\u001b[1;32m    342\u001b[0m     \u001b[38;5;28;01mexcept\u001b[39;00m \u001b[38;5;167;01mException\u001b[39;00m:\n\u001b[1;32m    343\u001b[0m         \u001b[38;5;28mself\u001b[39m\u001b[38;5;241m.\u001b[39munrecv(\u001b[38;5;124mb\u001b[39m\u001b[38;5;124m'\u001b[39m\u001b[38;5;124m'\u001b[39m\u001b[38;5;241m.\u001b[39mjoin(data) \u001b[38;5;241m+\u001b[39m top)\n",
      "File \u001b[0;32m~/.local/lib/python3.12/site-packages/pwnlib/tubes/tube.py:106\u001b[0m, in \u001b[0;36mtube.recv\u001b[0;34m(self, numb, timeout)\u001b[0m\n\u001b[1;32m     75\u001b[0m \u001b[38;5;250m\u001b[39m\u001b[38;5;124mr\u001b[39m\u001b[38;5;124;03m\"\"\"recv(numb = 4096, timeout = default) -> bytes\u001b[39;00m\n\u001b[1;32m     76\u001b[0m \n\u001b[1;32m     77\u001b[0m \u001b[38;5;124;03mReceives up to `numb` bytes of data from the tube, and returns\u001b[39;00m\n\u001b[0;32m   (...)\u001b[0m\n\u001b[1;32m    103\u001b[0m \u001b[38;5;124;03m        b'Hello, world'\u001b[39;00m\n\u001b[1;32m    104\u001b[0m \u001b[38;5;124;03m\"\"\"\u001b[39;00m\n\u001b[1;32m    105\u001b[0m numb \u001b[38;5;241m=\u001b[39m \u001b[38;5;28mself\u001b[39m\u001b[38;5;241m.\u001b[39mbuffer\u001b[38;5;241m.\u001b[39mget_fill_size(numb)\n\u001b[0;32m--> 106\u001b[0m \u001b[38;5;28;01mreturn\u001b[39;00m \u001b[38;5;28;43mself\u001b[39;49m\u001b[38;5;241;43m.\u001b[39;49m\u001b[43m_recv\u001b[49m\u001b[43m(\u001b[49m\u001b[43mnumb\u001b[49m\u001b[43m,\u001b[49m\u001b[43m \u001b[49m\u001b[43mtimeout\u001b[49m\u001b[43m)\u001b[49m \u001b[38;5;129;01mor\u001b[39;00m \u001b[38;5;124mb\u001b[39m\u001b[38;5;124m'\u001b[39m\u001b[38;5;124m'\u001b[39m\n",
      "File \u001b[0;32m~/.local/lib/python3.12/site-packages/pwnlib/tubes/tube.py:176\u001b[0m, in \u001b[0;36mtube._recv\u001b[0;34m(self, numb, timeout)\u001b[0m\n\u001b[1;32m    172\u001b[0m numb \u001b[38;5;241m=\u001b[39m \u001b[38;5;28mself\u001b[39m\u001b[38;5;241m.\u001b[39mbuffer\u001b[38;5;241m.\u001b[39mget_fill_size(numb)\n\u001b[1;32m    174\u001b[0m \u001b[38;5;66;03m# No buffered data, could not put anything in the buffer\u001b[39;00m\n\u001b[1;32m    175\u001b[0m \u001b[38;5;66;03m# before timeout.\u001b[39;00m\n\u001b[0;32m--> 176\u001b[0m \u001b[38;5;28;01mif\u001b[39;00m \u001b[38;5;129;01mnot\u001b[39;00m \u001b[38;5;28mself\u001b[39m\u001b[38;5;241m.\u001b[39mbuffer \u001b[38;5;129;01mand\u001b[39;00m \u001b[38;5;129;01mnot\u001b[39;00m \u001b[38;5;28;43mself\u001b[39;49m\u001b[38;5;241;43m.\u001b[39;49m\u001b[43m_fillbuffer\u001b[49m\u001b[43m(\u001b[49m\u001b[43mtimeout\u001b[49m\u001b[43m)\u001b[49m:\n\u001b[1;32m    177\u001b[0m     \u001b[38;5;28;01mreturn\u001b[39;00m \u001b[38;5;124mb\u001b[39m\u001b[38;5;124m'\u001b[39m\u001b[38;5;124m'\u001b[39m\n\u001b[1;32m    179\u001b[0m \u001b[38;5;28;01mreturn\u001b[39;00m \u001b[38;5;28mself\u001b[39m\u001b[38;5;241m.\u001b[39mbuffer\u001b[38;5;241m.\u001b[39mget(numb)\n",
      "File \u001b[0;32m~/.local/lib/python3.12/site-packages/pwnlib/tubes/tube.py:155\u001b[0m, in \u001b[0;36mtube._fillbuffer\u001b[0;34m(self, timeout)\u001b[0m\n\u001b[1;32m    152\u001b[0m data \u001b[38;5;241m=\u001b[39m \u001b[38;5;124mb\u001b[39m\u001b[38;5;124m'\u001b[39m\u001b[38;5;124m'\u001b[39m\n\u001b[1;32m    154\u001b[0m \u001b[38;5;28;01mwith\u001b[39;00m \u001b[38;5;28mself\u001b[39m\u001b[38;5;241m.\u001b[39mlocal(timeout):\n\u001b[0;32m--> 155\u001b[0m     data \u001b[38;5;241m=\u001b[39m \u001b[38;5;28;43mself\u001b[39;49m\u001b[38;5;241;43m.\u001b[39;49m\u001b[43mrecv_raw\u001b[49m\u001b[43m(\u001b[49m\u001b[38;5;28;43mself\u001b[39;49m\u001b[38;5;241;43m.\u001b[39;49m\u001b[43mbuffer\u001b[49m\u001b[38;5;241;43m.\u001b[39;49m\u001b[43mget_fill_size\u001b[49m\u001b[43m(\u001b[49m\u001b[43m)\u001b[49m\u001b[43m)\u001b[49m\n\u001b[1;32m    157\u001b[0m \u001b[38;5;28;01mif\u001b[39;00m data \u001b[38;5;129;01mand\u001b[39;00m \u001b[38;5;28mself\u001b[39m\u001b[38;5;241m.\u001b[39misEnabledFor(logging\u001b[38;5;241m.\u001b[39mDEBUG):\n\u001b[1;32m    158\u001b[0m     \u001b[38;5;28mself\u001b[39m\u001b[38;5;241m.\u001b[39mdebug(\u001b[38;5;124m'\u001b[39m\u001b[38;5;124mReceived \u001b[39m\u001b[38;5;132;01m%#x\u001b[39;00m\u001b[38;5;124m bytes:\u001b[39m\u001b[38;5;124m'\u001b[39m \u001b[38;5;241m%\u001b[39m \u001b[38;5;28mlen\u001b[39m(data))\n",
      "File \u001b[0;32m~/.local/lib/python3.12/site-packages/pwnlib/tubes/sock.py:56\u001b[0m, in \u001b[0;36msock.recv_raw\u001b[0;34m(self, numb, *a)\u001b[0m\n\u001b[1;32m     54\u001b[0m \u001b[38;5;28;01mif\u001b[39;00m \u001b[38;5;129;01mnot\u001b[39;00m data:\n\u001b[1;32m     55\u001b[0m     \u001b[38;5;28mself\u001b[39m\u001b[38;5;241m.\u001b[39mshutdown(\u001b[38;5;124m\"\u001b[39m\u001b[38;5;124mrecv\u001b[39m\u001b[38;5;124m\"\u001b[39m)\n\u001b[0;32m---> 56\u001b[0m     \u001b[38;5;28;01mraise\u001b[39;00m \u001b[38;5;167;01mEOFError\u001b[39;00m\n\u001b[1;32m     58\u001b[0m \u001b[38;5;28;01mreturn\u001b[39;00m data\n",
      "\u001b[0;31mEOFError\u001b[0m: "
     ]
    }
   ],
   "source": [
    "numbers = re.findall(r'\\d+', output)\n",
    "p = int(numbers[1])\n",
    "q = int(numbers[2])\n",
    "e = int(numbers[3])\n",
    "c = int(numbers[4])\n",
    "\n",
    "totient = (p - 1) * (q - 1)\n",
    "d = pow(e, -1, totient)\n",
    "m = pow(c, d, p * q)\n",
    "conn.sendline(str(m).encode())\n",
    "output = conn.recvuntil(b'?\\n').decode()"
   ]
  }
 ],
 "metadata": {
  "kernelspec": {
   "display_name": "Python 3",
   "language": "python",
   "name": "python3"
  },
  "language_info": {
   "codemirror_mode": {
    "name": "ipython",
    "version": 3
   },
   "file_extension": ".py",
   "mimetype": "text/x-python",
   "name": "python",
   "nbconvert_exporter": "python",
   "pygments_lexer": "ipython3",
   "version": "3.12.3"
  }
 },
 "nbformat": 4,
 "nbformat_minor": 2
}
