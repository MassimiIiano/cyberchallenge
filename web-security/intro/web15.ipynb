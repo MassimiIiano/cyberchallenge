{
 "cells": [
  {
   "cell_type": "markdown",
   "metadata": {},
   "source": [
    "# Web 15 - Tecnologie web: risorse esterne\n",
    "Una pagina web può contenere riferimenti ad altre risorse, dette esterne, che vanno ad aumentarla in termini di funzionalità, stile, disponibilità di font ed altro ancora. I due principali meccanismi per l'inclusione di queste risorse sono i tag <link>, che specificano il tipo di relazione con la risorsa esterna nell'attributo rel (tipicamente stylesheet o alternate stylesheet) e l'indirizzo della risorsa in href, e i tag <script>, che oltre a contenere direttamente uno spezzone di codice possono linkare a script esterni tramite l'attributo src.\n",
    "\n",
    "In questa challenge la flag è in una delle risorse esterne della pagina accessibile all'indirizzo http://web-15.challs.olicyber.it/. L'obiettivo è utilizzare find_all e gli altri strumenti messi a disposizione da BeautifulSoup per costruire un elenco delle risorse esterne della pagina, si consiglia quindi di utilizzare la funzione get per scaricarle e di eseguirvi all'interno una ricerca testuale per la stringa flag{"
   ]
  },
  {
   "cell_type": "code",
   "execution_count": 5,
   "metadata": {},
   "outputs": [
    {
     "name": "stdout",
     "output_type": "stream",
     "text": [
      "[<link href=\"/style.css\" rel=\"stylesheet\" title=\"Default version\"/>, <link href=\"/serif.css\" rel=\"alternate stylesheet\" title=\"Alternate version\"/>, <script src=\"/dynamic.js\"></script>]\n"
     ]
    }
   ],
   "source": [
    "import requests\n",
    "from bs4 import BeautifulSoup\n",
    "\n",
    "r = requests.get('http://web-15.challs.olicyber.it/')\n",
    "soup = BeautifulSoup(r.text, 'html.parser')\n",
    "\n",
    "print(soup.findAll(['link', 'script']))\n",
    "\n"
   ]
  },
  {
   "cell_type": "code",
   "execution_count": 6,
   "metadata": {},
   "outputs": [
    {
     "data": {
      "text/plain": [
       "'/*\\n * Make titles dynamic\\n *\\n * P.s.: flag{5n00ping_4r0und}\\n *\\n */\\n\\nconst colors = [\"black\", \"red\", \"green\", \"blue\"];\\nvar color_index = 0;\\n\\nfunction change_titles_color() {\\n  color_index = (color_index + 1) % colors.length;\\n  for (let el of document.getElementsByTagName(\"h1\")) {\\n    el.style.color = colors[color_index];\\n  }\\n  window.setTimeout(change_titles_color, 800);\\n}\\n\\nwindow.setTimeout(change_titles_color, 800);'"
      ]
     },
     "execution_count": 6,
     "metadata": {},
     "output_type": "execute_result"
    }
   ],
   "source": [
    "r = requests.get('http://web-15.challs.olicyber.it/dynamic.js')\n",
    "r.text"
   ]
  }
 ],
 "metadata": {
  "kernelspec": {
   "display_name": "venv",
   "language": "python",
   "name": "python3"
  },
  "language_info": {
   "codemirror_mode": {
    "name": "ipython",
    "version": 3
   },
   "file_extension": ".py",
   "mimetype": "text/x-python",
   "name": "python",
   "nbconvert_exporter": "python",
   "pygments_lexer": "ipython3",
   "version": "3.11.8"
  }
 },
 "nbformat": 4,
 "nbformat_minor": 2
}
