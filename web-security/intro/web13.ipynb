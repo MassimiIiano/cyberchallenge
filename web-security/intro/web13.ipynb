{
 "cells": [
  {
   "cell_type": "markdown",
   "metadata": {},
   "source": [
    "In questa challenge le lettere evidenziate nella pagina web accessibile all'URL http://web-13.challs.olicyber.it/ formano la flag. L'obiettivo è isolarle dal resto della pagina e concatenarle. Si consiglia di utilizzare il metodo find_all della libreria BeautifulSoup con un filtro adeguato, e di iterare sul risultato.\n",
    "\n",
    "N.B.: in questa challenge la flag viene presentata senza la sua tipica cornice flag{. Questo è normale quando si trova in contesti in cui sarebbe difficile inserirla (ad esempio a causa della parentesi graffa), ma è comunque necessario aggiungerla a mano prima di inviare la flag affinché questa sia riconosciuta."
   ]
  },
  {
   "cell_type": "code",
   "execution_count": 7,
   "metadata": {},
   "outputs": [],
   "source": [
    "from bs4 import BeautifulSoup\n",
    "import requests\n",
    "URL = 'http://web-13.challs.olicyber.it/'\n",
    "r = requests.get(URL)"
   ]
  },
  {
   "cell_type": "markdown",
   "metadata": {},
   "source": [
    "Find all element with class red whitch contain letters of the flag"
   ]
  },
  {
   "cell_type": "code",
   "execution_count": 8,
   "metadata": {},
   "outputs": [
    {
     "name": "stdout",
     "output_type": "stream",
     "text": [
      "donotrecommenddoingthisbyhand"
     ]
    }
   ],
   "source": [
    "soup = BeautifulSoup(r.text, 'html.parser')\n",
    "red_elements = soup.find_all(class_='red')\n",
    "for elem in red_elements:\n",
    "    print(elem.text, end='')"
   ]
  }
 ],
 "metadata": {
  "kernelspec": {
   "display_name": "venv",
   "language": "python",
   "name": "python3"
  },
  "language_info": {
   "codemirror_mode": {
    "name": "ipython",
    "version": 3
   },
   "file_extension": ".py",
   "mimetype": "text/x-python",
   "name": "python",
   "nbconvert_exporter": "python",
   "pygments_lexer": "ipython3",
   "version": "3.11.8"
  }
 },
 "nbformat": 4,
 "nbformat_minor": 2
}
