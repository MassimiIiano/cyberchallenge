{
 "cells": [
  {
   "cell_type": "markdown",
   "metadata": {},
   "source": [
    "Il token CSRF è un sistema impiegato per impedire l'esecuzione di attacchi di tipo Cross-Site Request Forgery. L'attacco consisterebbe nell'ingannare un utente di un servizio web a cliccare su un link o sul tasto di invio di un form inclusi in un'email o su un sito controllato dall'attaccante, che abbiano come target una risorsa \"pericolosa\" del servizio bersaglio (p.e. una risorsa la cui richiesta rappresenti un comando di cancellazione dell'account). Il meccanismo del cookie di sessione, ottenibile solo con username e password sconosciuti all'attaccante, impedice a quest'ultimo di eseguire personalmente l'operazione \"pericolosa\" spacciandosi per l'utente, ma se l'utente viene indotto con l'inganno a cliccare il link malevolo su una macchina su cui abbia precedentemente eseguito l'accesso al servizio bersaglio, il cookie contenente il token di sessione verrà allegato automaticamente alla richiesta effettuata, validandola, senza che l'attaccante abbia bisogno di rubarlo o di riprodurne uno contraffatto.\n",
    "\n",
    "Il token CSRF impedisce questo tipo di attacco perché non viene inviato automaticamente dal browser come avviene per i normali cookie. Esso viene comunque memorizzato sulla macchina client in uno storage accessibile solo alle risorse associate al relativo servizio (e quindi fuori dal controllo dell'attaccante), ma deve essere esplicitamente allegato alle richieste HTTP sotto forma, ad esempio, di parametro GET, o all'interno al corpo di una richiesta POST, quando queste vengono eseguire. In questo modo è impossibile portare l'utente a generare una richiesta pericolosa con un semplice click, perché per generare un link pericoloso l'attaccante sarebbe costretto a conoscere il token. Per complicare ulteriormente le cose, i token CSRF sono tipicamente usa e getta, e ad ogni operazione completata con successo il client ne riceve uno nuovo generato casualmente. Il nuovo token viene solitamente aggiunto al corpo della risorsa restituita.\n",
    "\n",
    "In questa challenge, la flag è divisa in quattro pezzi, accessibili tramite la risorsa http://web-11.challs.olicyber.it/flag_piece in base al parametro index. Per accedervi, è necessario aver precedentemente inviato una richiesta POST di login alla risorsa http://web-11.challs.olicyber.it/login, con body JSON contenente \"username\": \"admin\" e \"password\": \"admin\", e aver ricevuto in cambio un cookie di sessione. Oltre al token di sessione nel cookie, la risorsa login restituirà anche un token CSRF nel corpo della risposta (anch'esso JSON). Ad ogni richiesta correttamente eseguita il client riceverà un nuovo token da utilizzare per la successiva.\n",
    "\n",
    "Si consiglia di utilizzare un oggetto Session per gestire il cookie di sessione, e il metodo json degli oggetti risposta per decodificarne il corpo automaticamente."
   ]
  },
  {
   "cell_type": "markdown",
   "metadata": {},
   "source": [
    "Set Urls for flagpice and login"
   ]
  },
  {
   "cell_type": "code",
   "execution_count": null,
   "metadata": {},
   "outputs": [
    {
     "ename": "",
     "evalue": "",
     "output_type": "error",
     "traceback": [
      "\u001b[1;31mJupyter cannot be started. Error attempting to locate Jupyter: 'Kernelspec' module not installed in the selected interpreter (/home/spatola/Documents/work/cyberchallenge/.venv/bin/python).\n",
      "\u001b[1;31m Please re-install or update 'jupyter'.\n",
      "\u001b[1;31mRun the following command to install 'jupyter and notebook' into the Python environment. \n",
      "\u001b[1;31mCommand: 'python -m pip install jupyter notebook -U\n",
      "\u001b[1;31mor\n",
      "\u001b[1;31mconda install jupyter notebook -U'\n",
      "\u001b[1;31mClick <a href='https://aka.ms/installJupyterForVSCode'>here</a> for more info."
     ]
    }
   ],
   "source": [
    "import requests"
   ]
  },
  {
   "cell_type": "code",
   "execution_count": null,
   "metadata": {},
   "outputs": [
    {
     "ename": "",
     "evalue": "",
     "output_type": "error",
     "traceback": [
      "\u001b[1;31mJupyter cannot be started. Error attempting to locate Jupyter: 'Kernelspec' module not installed in the selected interpreter (/home/spatola/Documents/work/cyberchallenge/.venv/bin/python).\n",
      "\u001b[1;31m Please re-install or update 'jupyter'.\n",
      "\u001b[1;31mRun the following command to install 'jupyter and notebook' into the Python environment. \n",
      "\u001b[1;31mCommand: 'python -m pip install jupyter notebook -U\n",
      "\u001b[1;31mor\n",
      "\u001b[1;31mconda install jupyter notebook -U'\n",
      "\u001b[1;31mClick <a href='https://aka.ms/installJupyterForVSCode'>here</a> for more info."
     ]
    }
   ],
   "source": [
    "LOGIN = \"http://web-11.challs.olicyber.it/login\".strip()\n",
    "FLAG_PICE = \"http://web-11.challs.olicyber.it/flag_piece\".strip()"
   ]
  },
  {
   "cell_type": "markdown",
   "metadata": {},
   "source": [
    "Get session Cookie"
   ]
  },
  {
   "cell_type": "code",
   "execution_count": null,
   "metadata": {},
   "outputs": [
    {
     "ename": "",
     "evalue": "",
     "output_type": "error",
     "traceback": [
      "\u001b[1;31mJupyter cannot be started. Error attempting to locate Jupyter: 'Kernelspec' module not installed in the selected interpreter (/home/spatola/Documents/work/cyberchallenge/.venv/bin/python).\n",
      "\u001b[1;31m Please re-install or update 'jupyter'.\n",
      "\u001b[1;31mRun the following command to install 'jupyter and notebook' into the Python environment. \n",
      "\u001b[1;31mCommand: 'python -m pip install jupyter notebook -U\n",
      "\u001b[1;31mor\n",
      "\u001b[1;31mconda install jupyter notebook -U'\n",
      "\u001b[1;31mClick <a href='https://aka.ms/installJupyterForVSCode'>here</a> for more info."
     ]
    }
   ],
   "source": [
    "with requests.Session() as s:\n",
    "    r = s.post(LOGIN, json={\"username\": \"admin\", \"password\": \"admin\"})\n",
    "    \n",
    "    for i in range(4):\n",
    "        \n",
    "        r = s.get(FLAG_PICE, params={\"index\": i, 'csrf': r.json()['csrf']}, )\n",
    "        print(r.text)\n",
    "\n",
    "    # print(r.cookies)\n",
    "    # print(r.headers)"
   ]
  }
 ],
 "metadata": {
  "kernelspec": {
   "display_name": "venv",
   "language": "python",
   "name": "python3"
  },
  "language_info": {
   "codemirror_mode": {
    "name": "ipython",
    "version": 3
   },
   "file_extension": ".py",
   "mimetype": "text/x-python",
   "name": "python",
   "nbconvert_exporter": "python",
   "pygments_lexer": "ipython3",
   "version": "3.11.8"
  }
 },
 "nbformat": 4,
 "nbformat_minor": 2
}
