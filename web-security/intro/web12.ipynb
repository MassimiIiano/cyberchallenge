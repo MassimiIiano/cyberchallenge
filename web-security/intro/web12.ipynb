{
 "cells": [
  {
   "cell_type": "markdown",
   "metadata": {},
   "source": [
    "L'utilizzo primario di HTTP rimane trasportare documenti ipertestuali comunemente noti come pagine web. Questi documenti sono descritti tramite il linguaggio di markup HTML e possono avere una struttura abbastanza complessa. Fortunatamente sono disponibili numerose librerie utilizzabili per l'estrazione dei dati in essi contenuti che eliminano la difficoltà di dover interpretare un formato di tale complessità.\n",
    "\n",
    "Gli ipertesti sono fondamentalmente documenti di testo, porzioni del quale sono delimitate da coppie di identificatori, detti tag, che ne specificano la funzione all'interno della pagina. Ad esempio, un paragrafo sarà delimitato da una coppia <p> ... </p>, un link da <a> ... </a> e così via. Questi tag possono contenere anche informazioni aggiuntive, dette attributi, che definiscono caratteristiche del testo delimitato (ad esempio, la destinazione di un link viene specificata nell'attributo href Hypertext REFerence del tag <a>)\n",
    "\n",
    "In questa challenge la flag è contenuta nel secondo paragrafo della pagina web accessibile all'URL http://web-12.challs.olicyber.it/. Si consiglia di scaricare la pagina come una normale risorsa tramite la funzione get della libreria requests, e il metodo find_all della libreria BeautifulSoup per ottenere l'elenco dei paragrafi in essa contenuti."
   ]
  },
  {
   "cell_type": "code",
   "execution_count": null,
   "metadata": {
    "vscode": {
     "languageId": "plaintext"
    }
   },
   "outputs": [],
   "source": []
  }
 ],
 "metadata": {
  "language_info": {
   "name": "python"
  }
 },
 "nbformat": 4,
 "nbformat_minor": 2
}
