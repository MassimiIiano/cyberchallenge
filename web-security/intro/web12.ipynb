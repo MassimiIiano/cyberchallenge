{
 "cells": [
  {
   "cell_type": "markdown",
   "metadata": {},
   "source": [
    "L'utilizzo primario di HTTP rimane trasportare documenti ipertestuali comunemente noti come pagine web. Questi documenti sono descritti tramite il linguaggio di markup HTML e possono avere una struttura abbastanza complessa. Fortunatamente sono disponibili numerose librerie utilizzabili per l'estrazione dei dati in essi contenuti che eliminano la difficoltà di dover interpretare un formato di tale complessità.\n",
    "\n",
    "Gli ipertesti sono fondamentalmente documenti di testo, porzioni del quale sono delimitate da coppie di identificatori, detti tag, che ne specificano la funzione all'interno della pagina. Ad esempio, un paragrafo sarà delimitato da una coppia <p> ... </p>, un link da <a> ... </a> e così via. Questi tag possono contenere anche informazioni aggiuntive, dette attributi, che definiscono caratteristiche del testo delimitato (ad esempio, la destinazione di un link viene specificata nell'attributo href Hypertext REFerence del tag <a>)\n",
    "\n",
    "In questa challenge la flag è contenuta nel secondo paragrafo della pagina web accessibile all'URL . Si consiglia di scaricare la pagina come una normale risorsa tramite la funzione get della libreria requests, e il metodo find_all della libreria BeautifulSoup per ottenere l'elenco dei paragrafi in essa contenuti."
   ]
  },
  {
   "cell_type": "markdown",
   "metadata": {},
   "source": [
    "Setup"
   ]
  },
  {
   "cell_type": "code",
   "execution_count": 4,
   "metadata": {},
   "outputs": [],
   "source": [
    "from bs4 import BeautifulSoup\n",
    "import requests\n",
    "\n",
    "URL = 'http://web-12.challs.olicyber.it/'.strip()"
   ]
  },
  {
   "cell_type": "markdown",
   "metadata": {},
   "source": [
    "Get the HTML Document"
   ]
  },
  {
   "cell_type": "code",
   "execution_count": 5,
   "metadata": {},
   "outputs": [],
   "source": [
    "r = requests.get(URL)"
   ]
  },
  {
   "cell_type": "markdown",
   "metadata": {},
   "source": [
    "find the second paragraph with bs4"
   ]
  },
  {
   "cell_type": "code",
   "execution_count": 6,
   "metadata": {},
   "outputs": [
    {
     "data": {
      "text/plain": [
       "'\\nflag{7h3_14ngu4g3_0f_7h3_w3b}\\n'"
      ]
     },
     "execution_count": 6,
     "metadata": {},
     "output_type": "execute_result"
    }
   ],
   "source": [
    "soup = BeautifulSoup(r.text, 'html.parser')\n",
    "flag = soup.find_all('p')[1].text\n",
    "flag"
   ]
  }
 ],
 "metadata": {
  "kernelspec": {
   "display_name": "venv",
   "language": "python",
   "name": "python3"
  },
  "language_info": {
   "codemirror_mode": {
    "name": "ipython",
    "version": 3
   },
   "file_extension": ".py",
   "mimetype": "text/x-python",
   "name": "python",
   "nbconvert_exporter": "python",
   "pygments_lexer": "ipython3",
   "version": "3.11.8"
  }
 },
 "nbformat": 4,
 "nbformat_minor": 2
}
