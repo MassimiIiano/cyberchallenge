{
 "cells": [
  {
   "cell_type": "markdown",
   "metadata": {},
   "source": [
    "# Web 14 - Tecnologie web: estrarre \n",
    "I documenti HTML possono contenere dei commenti. Questi vengono completamente ignorati dal browser e non partecipano alla costruzione del contenuto della pagina ma talvolta, per una disattenzione dell'autore, possono contenere informazioni interessanti e potenzialmente sensibili.\n",
    "\n",
    "La flag di questa challenge è in un commento della pagina web accessibile tramite l'indirizzo http://web-14.challs.olicyber.it/. L'obiettivo è estrarre e visualizzare i commenti contenuti nella pagina. Proprio come il browser, anche BeautifulSoup tende a mettere il contenuto dei commenti in secondo piano, non fornendo strumenti diretti di accesso ad essi. Si consiglia di utilizzare il parametro string del metodo find_all con un test personalizzato che verifichi se l'elemento analizzato sia un'istanza della classe Comment"
   ]
  },
  {
   "cell_type": "code",
   "execution_count": 1,
   "metadata": {},
   "outputs": [
    {
     "name": "stdout",
     "output_type": "stream",
     "text": [
      " remember to deploy in production \n",
      " prod. server password: flag{50m3b0dy_f0rg07_70_d31373_7hi5} \n"
     ]
    }
   ],
   "source": [
    "import requests\n",
    "from bs4 import BeautifulSoup, Comment\n",
    "\n",
    "# Make a request to the webpage\n",
    "url = \"http://web-14.challs.olicyber.it/\"\n",
    "response = requests.get(url)\n",
    "\n",
    "# Create a BeautifulSoup object\n",
    "soup = BeautifulSoup(response.text, \"html.parser\")\n",
    "\n",
    "# Find all the comments in the webpage\n",
    "comments = soup.find_all(string=lambda text: isinstance(text, Comment))\n",
    "\n",
    "# Print the comments\n",
    "for comment in comments:\n",
    "    print(comment)\n"
   ]
  }
 ],
 "metadata": {
  "kernelspec": {
   "display_name": "venv",
   "language": "python",
   "name": "python3"
  },
  "language_info": {
   "codemirror_mode": {
    "name": "ipython",
    "version": 3
   },
   "file_extension": ".py",
   "mimetype": "text/x-python",
   "name": "python",
   "nbconvert_exporter": "python",
   "pygments_lexer": "ipython3",
   "version": "3.11.8"
  }
 },
 "nbformat": 4,
 "nbformat_minor": 2
}
